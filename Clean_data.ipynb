{
 "cells": [
  {
   "cell_type": "code",
   "execution_count": 1,
   "id": "83eed424",
   "metadata": {},
   "outputs": [
    {
     "data": {
      "text/html": [
       "<div>\n",
       "<style scoped>\n",
       "    .dataframe tbody tr th:only-of-type {\n",
       "        vertical-align: middle;\n",
       "    }\n",
       "\n",
       "    .dataframe tbody tr th {\n",
       "        vertical-align: top;\n",
       "    }\n",
       "\n",
       "    .dataframe thead th {\n",
       "        text-align: right;\n",
       "    }\n",
       "</style>\n",
       "<table border=\"1\" class=\"dataframe\">\n",
       "  <thead>\n",
       "    <tr style=\"text-align: right;\">\n",
       "      <th></th>\n",
       "      <th>clean_data</th>\n",
       "      <th>type</th>\n",
       "    </tr>\n",
       "  </thead>\n",
       "  <tbody>\n",
       "    <tr>\n",
       "      <th>0</th>\n",
       "      <td>صدىقتى امال اقرئى تعلىقى سمحتى صدقىنى صدقىنى ا...</td>\n",
       "      <td>normal</td>\n",
       "    </tr>\n",
       "    <tr>\n",
       "      <th>1</th>\n",
       "      <td>فاهمه كىفف ربى نظملهم حىاتهم وراهم الطرىق الصح...</td>\n",
       "      <td>normal</td>\n",
       "    </tr>\n",
       "    <tr>\n",
       "      <th>2</th>\n",
       "      <td>اعتقد صهىونى امرىكى جاسوس الغرب ىرىد التجنىس ب...</td>\n",
       "      <td>aggressive</td>\n",
       "    </tr>\n",
       "    <tr>\n",
       "      <th>3</th>\n",
       "      <td>اعتقد صهىونى امرىكى جاسوس الغرب ىرىد التجنىس ب...</td>\n",
       "      <td>aggressive</td>\n",
       "    </tr>\n",
       "    <tr>\n",
       "      <th>4</th>\n",
       "      <td>اشد اعداء الاسلام انزل محمد ىسمون بمفتىىن وعلم...</td>\n",
       "      <td>aggressive</td>\n",
       "    </tr>\n",
       "    <tr>\n",
       "      <th>...</th>\n",
       "      <td>...</td>\n",
       "      <td>...</td>\n",
       "    </tr>\n",
       "    <tr>\n",
       "      <th>4401</th>\n",
       "      <td>اوهدى</td>\n",
       "      <td>normal</td>\n",
       "    </tr>\n",
       "    <tr>\n",
       "      <th>4402</th>\n",
       "      <td>طز</td>\n",
       "      <td>aggressive</td>\n",
       "    </tr>\n",
       "    <tr>\n",
       "      <th>4403</th>\n",
       "      <td>ترهدىن</td>\n",
       "      <td>normal</td>\n",
       "    </tr>\n",
       "    <tr>\n",
       "      <th>4404</th>\n",
       "      <td>تقو</td>\n",
       "      <td>aggressive</td>\n",
       "    </tr>\n",
       "    <tr>\n",
       "      <th>4405</th>\n",
       "      <td>واطىه</td>\n",
       "      <td>aggressive</td>\n",
       "    </tr>\n",
       "  </tbody>\n",
       "</table>\n",
       "<p>4406 rows × 2 columns</p>\n",
       "</div>"
      ],
      "text/plain": [
       "                                             clean_data        type\n",
       "0     صدىقتى امال اقرئى تعلىقى سمحتى صدقىنى صدقىنى ا...      normal\n",
       "1     فاهمه كىفف ربى نظملهم حىاتهم وراهم الطرىق الصح...      normal\n",
       "2     اعتقد صهىونى امرىكى جاسوس الغرب ىرىد التجنىس ب...  aggressive\n",
       "3     اعتقد صهىونى امرىكى جاسوس الغرب ىرىد التجنىس ب...  aggressive\n",
       "4     اشد اعداء الاسلام انزل محمد ىسمون بمفتىىن وعلم...  aggressive\n",
       "...                                                 ...         ...\n",
       "4401                                              اوهدى      normal\n",
       "4402                                                 طز  aggressive\n",
       "4403                                             ترهدىن      normal\n",
       "4404                                                تقو  aggressive\n",
       "4405                                              واطىه  aggressive\n",
       "\n",
       "[4406 rows x 2 columns]"
      ]
     },
     "execution_count": 1,
     "metadata": {},
     "output_type": "execute_result"
    }
   ],
   "source": [
    "import pandas as pd\n",
    "\n",
    "#read the data \n",
    "dataset = pd.read_csv(\"clean_data.csv\")\n",
    "\n",
    "#view data \n",
    "dataset"
   ]
  },
  {
   "cell_type": "code",
   "execution_count": 3,
   "id": "5f2ecd45",
   "metadata": {},
   "outputs": [],
   "source": [
    " #Text length analysis \n",
    "def avg_word(sentence):\n",
    "    words = sentence.split()\n",
    "    if len(words) == 0:\n",
    "        return 0\n",
    "    return (sum(len(word) for word in words)/len(words))\n"
   ]
  },
  {
   "cell_type": "code",
   "execution_count": 6,
   "id": "1fd1308f",
   "metadata": {},
   "outputs": [
    {
     "name": "stderr",
     "output_type": "stream",
     "text": [
      "[nltk_data] Downloading package stopwords to\n",
      "[nltk_data]     C:\\Users\\asus\\AppData\\Roaming\\nltk_data...\n",
      "[nltk_data]   Package stopwords is already up-to-date!\n"
     ]
    }
   ],
   "source": [
    "import nltk\n",
    "nltk.download('stopwords')\n",
    "stop = set(nltk.corpus.stopwords.words(\"arabic\"))"
   ]
  },
  {
   "cell_type": "code",
   "execution_count": 7,
   "id": "69a17f28",
   "metadata": {},
   "outputs": [
    {
     "data": {
      "text/html": [
       "<div>\n",
       "<style scoped>\n",
       "    .dataframe tbody tr th:only-of-type {\n",
       "        vertical-align: middle;\n",
       "    }\n",
       "\n",
       "    .dataframe tbody tr th {\n",
       "        vertical-align: top;\n",
       "    }\n",
       "\n",
       "    .dataframe thead th {\n",
       "        text-align: right;\n",
       "    }\n",
       "</style>\n",
       "<table border=\"1\" class=\"dataframe\">\n",
       "  <thead>\n",
       "    <tr style=\"text-align: right;\">\n",
       "      <th></th>\n",
       "      <th>clean_data</th>\n",
       "      <th>type</th>\n",
       "      <th>word_count</th>\n",
       "      <th>char_count</th>\n",
       "      <th>avg_char_per_word</th>\n",
       "      <th>stopwords</th>\n",
       "    </tr>\n",
       "  </thead>\n",
       "  <tbody>\n",
       "    <tr>\n",
       "      <th>0</th>\n",
       "      <td>صدىقتى امال اقرئى تعلىقى سمحتى صدقىنى صدقىنى ا...</td>\n",
       "      <td>normal</td>\n",
       "      <td>383</td>\n",
       "      <td>2491</td>\n",
       "      <td>5.506527</td>\n",
       "      <td>0</td>\n",
       "    </tr>\n",
       "    <tr>\n",
       "      <th>1</th>\n",
       "      <td>فاهمه كىفف ربى نظملهم حىاتهم وراهم الطرىق الصح...</td>\n",
       "      <td>normal</td>\n",
       "      <td>234</td>\n",
       "      <td>1442</td>\n",
       "      <td>5.166667</td>\n",
       "      <td>1</td>\n",
       "    </tr>\n",
       "    <tr>\n",
       "      <th>2</th>\n",
       "      <td>اعتقد صهىونى امرىكى جاسوس الغرب ىرىد التجنىس ب...</td>\n",
       "      <td>aggressive</td>\n",
       "      <td>207</td>\n",
       "      <td>1346</td>\n",
       "      <td>5.507246</td>\n",
       "      <td>0</td>\n",
       "    </tr>\n",
       "    <tr>\n",
       "      <th>3</th>\n",
       "      <td>اعتقد صهىونى امرىكى جاسوس الغرب ىرىد التجنىس ب...</td>\n",
       "      <td>aggressive</td>\n",
       "      <td>207</td>\n",
       "      <td>1346</td>\n",
       "      <td>5.507246</td>\n",
       "      <td>0</td>\n",
       "    </tr>\n",
       "    <tr>\n",
       "      <th>4</th>\n",
       "      <td>اشد اعداء الاسلام انزل محمد ىسمون بمفتىىن وعلم...</td>\n",
       "      <td>aggressive</td>\n",
       "      <td>163</td>\n",
       "      <td>1000</td>\n",
       "      <td>5.141104</td>\n",
       "      <td>0</td>\n",
       "    </tr>\n",
       "  </tbody>\n",
       "</table>\n",
       "</div>"
      ],
      "text/plain": [
       "                                          clean_data        type  word_count  \\\n",
       "0  صدىقتى امال اقرئى تعلىقى سمحتى صدقىنى صدقىنى ا...      normal         383   \n",
       "1  فاهمه كىفف ربى نظملهم حىاتهم وراهم الطرىق الصح...      normal         234   \n",
       "2  اعتقد صهىونى امرىكى جاسوس الغرب ىرىد التجنىس ب...  aggressive         207   \n",
       "3  اعتقد صهىونى امرىكى جاسوس الغرب ىرىد التجنىس ب...  aggressive         207   \n",
       "4  اشد اعداء الاسلام انزل محمد ىسمون بمفتىىن وعلم...  aggressive         163   \n",
       "\n",
       "   char_count  avg_char_per_word  stopwords  \n",
       "0        2491           5.506527          0  \n",
       "1        1442           5.166667          1  \n",
       "2        1346           5.507246          0  \n",
       "3        1346           5.507246          0  \n",
       "4        1000           5.141104          0  "
      ]
     },
     "execution_count": 7,
     "metadata": {},
     "output_type": "execute_result"
    }
   ],
   "source": [
    "dataset['word_count'] = dataset['clean_data'].apply(lambda x: len(str(x).split(\" \")))\n",
    "dataset['char_count'] = dataset['clean_data'].str.len() ## this also includes spaces\n",
    "dataset['avg_char_per_word'] = dataset['clean_data'].apply(lambda x: avg_word(x))\n",
    "dataset['stopwords'] = dataset['clean_data'].apply(lambda x: len([x for x in x.split() if x in stop]))\n",
    "dataset = dataset.sort_values(by='word_count',ascending=[0])\n",
    "dataset.head()"
   ]
  },
  {
   "cell_type": "code",
   "execution_count": 8,
   "id": "2f11f73e",
   "metadata": {},
   "outputs": [
    {
     "name": "stderr",
     "output_type": "stream",
     "text": [
      "C:\\Users\\asus\\AppData\\Local\\Temp\\ipykernel_9252\\2218232480.py:1: FutureWarning: The default value of numeric_only in DataFrame.mean is deprecated. In a future version, it will default to False. In addition, specifying 'numeric_only=None' is deprecated. Select only valid columns or specify the value of numeric_only to silence this warning.\n",
      "  dataset_stat = dataset.mean(axis=0)\n"
     ]
    },
    {
     "data": {
      "text/plain": [
       "word_count           12.073536\n",
       "char_count           71.302996\n",
       "avg_char_per_word     4.851792\n",
       "stopwords             0.007717\n",
       "dtype: float64"
      ]
     },
     "execution_count": 8,
     "metadata": {},
     "output_type": "execute_result"
    }
   ],
   "source": [
    "dataset_stat = dataset.mean(axis=0)\n",
    "dataset_stat"
   ]
  },
  {
   "cell_type": "code",
   "execution_count": null,
   "id": "625496ef",
   "metadata": {},
   "outputs": [],
   "source": []
  }
 ],
 "metadata": {
  "kernelspec": {
   "display_name": "Python 3 (ipykernel)",
   "language": "python",
   "name": "python3"
  },
  "language_info": {
   "codemirror_mode": {
    "name": "ipython",
    "version": 3
   },
   "file_extension": ".py",
   "mimetype": "text/x-python",
   "name": "python",
   "nbconvert_exporter": "python",
   "pygments_lexer": "ipython3",
   "version": "3.11.4"
  }
 },
 "nbformat": 4,
 "nbformat_minor": 5
}
