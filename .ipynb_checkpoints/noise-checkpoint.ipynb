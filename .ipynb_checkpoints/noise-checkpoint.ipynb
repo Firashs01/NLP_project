{
 "cells": [
  {
   "cell_type": "code",
   "execution_count": 1,
   "id": "cee3a36f",
   "metadata": {},
   "outputs": [],
   "source": [
    "import nltk\n",
    "import random\n",
    "import pandas as pd"
   ]
  },
  {
   "cell_type": "code",
   "execution_count": 2,
   "id": "b96f05a1",
   "metadata": {},
   "outputs": [
    {
     "name": "stderr",
     "output_type": "stream",
     "text": [
      "[nltk_data] Error loading punkt: <urlopen error [Errno 11001]\n",
      "[nltk_data]     getaddrinfo failed>\n"
     ]
    },
    {
     "data": {
      "text/plain": [
       "False"
      ]
     },
     "execution_count": 2,
     "metadata": {},
     "output_type": "execute_result"
    }
   ],
   "source": [
    "nltk.download('punkt')"
   ]
  },
  {
   "cell_type": "code",
   "execution_count": 3,
   "id": "c9faab67",
   "metadata": {},
   "outputs": [
    {
     "data": {
      "text/plain": [
       "0     ـ\n",
       "1     ء\n",
       "2    ءَ\n",
       "Name: ،, dtype: object"
      ]
     },
     "execution_count": 3,
     "metadata": {},
     "output_type": "execute_result"
    }
   ],
   "source": [
    "df = pd.read_csv('stopword.csv', on_bad_lines='skip')\n",
    "\n",
    "stopword = df['،']\n",
    "stopword[:3]"
   ]
  },
  {
   "cell_type": "code",
   "execution_count": 29,
   "id": "3f506d69",
   "metadata": {},
   "outputs": [],
   "source": [
    "# Fonction pour supprimer des unigrammes\n",
    "def drop_unigrams_arabic(text, drop_prob=0.2):\n",
    "    words = nltk.word_tokenize(text)\n",
    "    modified_text = []\n",
    "    for word in words:\n",
    "        if random.uniform(0, 1) > drop_prob:\n",
    "            modified_text.append(word)\n",
    "    return ' '.join(modified_text)"
   ]
  },
  {
   "cell_type": "code",
   "execution_count": 43,
   "id": "12490ec2",
   "metadata": {},
   "outputs": [],
   "source": [
    "# Fonction pour ajouter des unigrammes\n",
    "def add_unigrams_arabic(text, stopword, add_prob=0.2):\n",
    "    words = nltk.word_tokenize(text)\n",
    "    modified_text = []\n",
    "    for word in words:\n",
    "        modified_text.append(word)\n",
    "        if random.uniform(0, 0.5) < add_prob:\n",
    "            random_unigram = random.choice(stopword)\n",
    "            modified_text.append(random_unigram)\n",
    "    return ' '.join(modified_text)"
   ]
  },
  {
   "cell_type": "code",
   "execution_count": 50,
   "id": "6017820e",
   "metadata": {
    "scrolled": true
   },
   "outputs": [],
   "source": [
    "# Votre texte original en arabe\n",
    "original_text_arabic = \"القط نائم على السجادة.\"\n",
    "\n",
    "# Augmentation du texte en supprimant des unigrammes\n",
    "augmented_text_1_arabic = drop_unigrams_arabic(original_text_arabic)\n",
    "\n",
    "# Augmentation du texte en ajoutant des unigrammes\n",
    "augmented_text_2_arabic = add_unigrams_arabic(original_text_arabic, stopword)"
   ]
  },
  {
   "cell_type": "code",
   "execution_count": 51,
   "id": "5dde7d5d",
   "metadata": {},
   "outputs": [
    {
     "name": "stdout",
     "output_type": "stream",
     "text": [
      "القط على السجادة .\n",
      "القط يوليو نائم على السجادة صبرا . أنا\n"
     ]
    }
   ],
   "source": [
    "print(augmented_text_1_arabic)\n",
    "print(augmented_text_2_arabic)"
   ]
  },
  {
   "cell_type": "code",
   "execution_count": 52,
   "id": "8790327a",
   "metadata": {},
   "outputs": [],
   "source": [
    "#create list of runction \n",
    "noise = [drop_unigrams_arabic, add_unigrams_arabic]\n"
   ]
  },
  {
   "cell_type": "code",
   "execution_count": 53,
   "id": "c76582e9",
   "metadata": {},
   "outputs": [],
   "source": [
    "# Randomly select a function and execute it\n",
    "selected_noise = random.choice(noise)"
   ]
  },
  {
   "cell_type": "code",
   "execution_count": 54,
   "id": "e658d1b7",
   "metadata": {},
   "outputs": [
    {
     "data": {
      "text/html": [
       "<div>\n",
       "<style scoped>\n",
       "    .dataframe tbody tr th:only-of-type {\n",
       "        vertical-align: middle;\n",
       "    }\n",
       "\n",
       "    .dataframe tbody tr th {\n",
       "        vertical-align: top;\n",
       "    }\n",
       "\n",
       "    .dataframe thead th {\n",
       "        text-align: right;\n",
       "    }\n",
       "</style>\n",
       "<table border=\"1\" class=\"dataframe\">\n",
       "  <thead>\n",
       "    <tr style=\"text-align: right;\">\n",
       "      <th></th>\n",
       "      <th>clean_data</th>\n",
       "      <th>type</th>\n",
       "    </tr>\n",
       "  </thead>\n",
       "  <tbody>\n",
       "    <tr>\n",
       "      <th>0</th>\n",
       "      <td>صدىقتى امال اقرئى تعلىقى سمحتى صدقىنى صدقىنى ا...</td>\n",
       "      <td>normal</td>\n",
       "    </tr>\n",
       "    <tr>\n",
       "      <th>1</th>\n",
       "      <td>فاهمه كىفف ربى نظملهم حىاتهم وراهم الطرىق الصح...</td>\n",
       "      <td>normal</td>\n",
       "    </tr>\n",
       "    <tr>\n",
       "      <th>2</th>\n",
       "      <td>اعتقد صهىونى امرىكى جاسوس الغرب ىرىد التجنىس ب...</td>\n",
       "      <td>aggressive</td>\n",
       "    </tr>\n",
       "    <tr>\n",
       "      <th>3</th>\n",
       "      <td>اعتقد صهىونى امرىكى جاسوس الغرب ىرىد التجنىس ب...</td>\n",
       "      <td>aggressive</td>\n",
       "    </tr>\n",
       "    <tr>\n",
       "      <th>4</th>\n",
       "      <td>اشد اعداء الاسلام انزل محمد ىسمون بمفتىىن وعلم...</td>\n",
       "      <td>aggressive</td>\n",
       "    </tr>\n",
       "  </tbody>\n",
       "</table>\n",
       "</div>"
      ],
      "text/plain": [
       "                                          clean_data        type\n",
       "0  صدىقتى امال اقرئى تعلىقى سمحتى صدقىنى صدقىنى ا...      normal\n",
       "1  فاهمه كىفف ربى نظملهم حىاتهم وراهم الطرىق الصح...      normal\n",
       "2  اعتقد صهىونى امرىكى جاسوس الغرب ىرىد التجنىس ب...  aggressive\n",
       "3  اعتقد صهىونى امرىكى جاسوس الغرب ىرىد التجنىس ب...  aggressive\n",
       "4  اشد اعداء الاسلام انزل محمد ىسمون بمفتىىن وعلم...  aggressive"
      ]
     },
     "execution_count": 54,
     "metadata": {},
     "output_type": "execute_result"
    }
   ],
   "source": [
    "df = pd.read_csv('Clean_data.csv')\n",
    "df.head()"
   ]
  },
  {
   "cell_type": "code",
   "execution_count": 55,
   "id": "a42d82a0",
   "metadata": {},
   "outputs": [],
   "source": [
    "df['preprocessed_txt'] = df['clean_data'].apply(selected_noise)"
   ]
  },
  {
   "cell_type": "code",
   "execution_count": 56,
   "id": "92357bb3",
   "metadata": {},
   "outputs": [
    {
     "data": {
      "text/html": [
       "<div>\n",
       "<style scoped>\n",
       "    .dataframe tbody tr th:only-of-type {\n",
       "        vertical-align: middle;\n",
       "    }\n",
       "\n",
       "    .dataframe tbody tr th {\n",
       "        vertical-align: top;\n",
       "    }\n",
       "\n",
       "    .dataframe thead th {\n",
       "        text-align: right;\n",
       "    }\n",
       "</style>\n",
       "<table border=\"1\" class=\"dataframe\">\n",
       "  <thead>\n",
       "    <tr style=\"text-align: right;\">\n",
       "      <th></th>\n",
       "      <th>clean_data</th>\n",
       "      <th>type</th>\n",
       "      <th>preprocessed_txt</th>\n",
       "    </tr>\n",
       "  </thead>\n",
       "  <tbody>\n",
       "    <tr>\n",
       "      <th>0</th>\n",
       "      <td>صدىقتى امال اقرئى تعلىقى سمحتى صدقىنى صدقىنى ا...</td>\n",
       "      <td>normal</td>\n",
       "      <td>صدىقتى امال اقرئى تعلىقى سمحتى صدقىنى صدقىنى ا...</td>\n",
       "    </tr>\n",
       "    <tr>\n",
       "      <th>1</th>\n",
       "      <td>فاهمه كىفف ربى نظملهم حىاتهم وراهم الطرىق الصح...</td>\n",
       "      <td>normal</td>\n",
       "      <td>فاهمه ربى نظملهم حىاتهم وراهم الطرىق الصحىح وا...</td>\n",
       "    </tr>\n",
       "    <tr>\n",
       "      <th>2</th>\n",
       "      <td>اعتقد صهىونى امرىكى جاسوس الغرب ىرىد التجنىس ب...</td>\n",
       "      <td>aggressive</td>\n",
       "      <td>اعتقد صهىونى امرىكى جاسوس الغرب ىرىد التجنىس ب...</td>\n",
       "    </tr>\n",
       "    <tr>\n",
       "      <th>3</th>\n",
       "      <td>اعتقد صهىونى امرىكى جاسوس الغرب ىرىد التجنىس ب...</td>\n",
       "      <td>aggressive</td>\n",
       "      <td>اعتقد صهىونى امرىكى جاسوس الغرب التجنىس الشرق ...</td>\n",
       "    </tr>\n",
       "    <tr>\n",
       "      <th>4</th>\n",
       "      <td>اشد اعداء الاسلام انزل محمد ىسمون بمفتىىن وعلم...</td>\n",
       "      <td>aggressive</td>\n",
       "      <td>اشد اعداء الاسلام انزل محمد ىسمون بمفتىىن النا...</td>\n",
       "    </tr>\n",
       "    <tr>\n",
       "      <th>5</th>\n",
       "      <td>عهد عمر الخطاب جاء اشخاص ممسكىن بشاب وقالوا ام...</td>\n",
       "      <td>normal</td>\n",
       "      <td>عهد اشخاص بشاب وقالوا المؤمنىن نرىد تقتص الرجل...</td>\n",
       "    </tr>\n",
       "    <tr>\n",
       "      <th>6</th>\n",
       "      <td>معترض الحكومه وسىاسات الدول مشتمش الشعب مصرى ا...</td>\n",
       "      <td>normal</td>\n",
       "      <td>معترض الحكومه وسىاسات الدول مشتمش الشعب مصرى ب...</td>\n",
       "    </tr>\n",
       "    <tr>\n",
       "      <th>7</th>\n",
       "      <td>قنعتكم ماىا وردىتوه جبرى وقعر اقسم بالله القعا...</td>\n",
       "      <td>normal</td>\n",
       "      <td>ماىا وردىتوه جبرى اقسم بالله تضهرلكم ماىا فنان...</td>\n",
       "    </tr>\n",
       "    <tr>\n",
       "      <th>8</th>\n",
       "      <td>قنعتكم ماىا وردىتوه جبرى وقعر اقسم بالله القعا...</td>\n",
       "      <td>normal</td>\n",
       "      <td>قنعتكم ماىا وردىتوه جبرى وقعر اقسم بالله القعا...</td>\n",
       "    </tr>\n",
       "    <tr>\n",
       "      <th>9</th>\n",
       "      <td>حىوان غرام عقل تقارن ثوره تونس لىبىا سورىا تفه...</td>\n",
       "      <td>aggressive</td>\n",
       "      <td>حىوان غرام عقل تقارن تونس لىبىا سورىا تفهم الش...</td>\n",
       "    </tr>\n",
       "  </tbody>\n",
       "</table>\n",
       "</div>"
      ],
      "text/plain": [
       "                                          clean_data        type  \\\n",
       "0  صدىقتى امال اقرئى تعلىقى سمحتى صدقىنى صدقىنى ا...      normal   \n",
       "1  فاهمه كىفف ربى نظملهم حىاتهم وراهم الطرىق الصح...      normal   \n",
       "2  اعتقد صهىونى امرىكى جاسوس الغرب ىرىد التجنىس ب...  aggressive   \n",
       "3  اعتقد صهىونى امرىكى جاسوس الغرب ىرىد التجنىس ب...  aggressive   \n",
       "4  اشد اعداء الاسلام انزل محمد ىسمون بمفتىىن وعلم...  aggressive   \n",
       "5  عهد عمر الخطاب جاء اشخاص ممسكىن بشاب وقالوا ام...      normal   \n",
       "6  معترض الحكومه وسىاسات الدول مشتمش الشعب مصرى ا...      normal   \n",
       "7  قنعتكم ماىا وردىتوه جبرى وقعر اقسم بالله القعا...      normal   \n",
       "8  قنعتكم ماىا وردىتوه جبرى وقعر اقسم بالله القعا...      normal   \n",
       "9  حىوان غرام عقل تقارن ثوره تونس لىبىا سورىا تفه...  aggressive   \n",
       "\n",
       "                                    preprocessed_txt  \n",
       "0  صدىقتى امال اقرئى تعلىقى سمحتى صدقىنى صدقىنى ا...  \n",
       "1  فاهمه ربى نظملهم حىاتهم وراهم الطرىق الصحىح وا...  \n",
       "2  اعتقد صهىونى امرىكى جاسوس الغرب ىرىد التجنىس ب...  \n",
       "3  اعتقد صهىونى امرىكى جاسوس الغرب التجنىس الشرق ...  \n",
       "4  اشد اعداء الاسلام انزل محمد ىسمون بمفتىىن النا...  \n",
       "5  عهد اشخاص بشاب وقالوا المؤمنىن نرىد تقتص الرجل...  \n",
       "6  معترض الحكومه وسىاسات الدول مشتمش الشعب مصرى ب...  \n",
       "7  ماىا وردىتوه جبرى اقسم بالله تضهرلكم ماىا فنان...  \n",
       "8  قنعتكم ماىا وردىتوه جبرى وقعر اقسم بالله القعا...  \n",
       "9  حىوان غرام عقل تقارن تونس لىبىا سورىا تفهم الش...  "
      ]
     },
     "execution_count": 56,
     "metadata": {},
     "output_type": "execute_result"
    }
   ],
   "source": [
    "df.head(10)"
   ]
  },
  {
   "cell_type": "code",
   "execution_count": null,
   "id": "de89184d",
   "metadata": {},
   "outputs": [],
   "source": [
    "#add type in liste\n",
    "type_l = []\n",
    "for i in df[\"type\"]:\n",
    "    type_l.append(i)\n",
    "#create data to mix  data and type\n",
    "data_l = {'comment': df[\"preprocessed_txt\"], 'type': type_l}\n",
    "\n",
    "#creta data frame\n",
    "dt = pd.DataFrame(data_l)\n",
    "\n",
    "# Save the data frame to a CSV file\n",
    "dt.to_csv(\"aug_noise.csv\", index=False)"
   ]
  }
 ],
 "metadata": {
  "kernelspec": {
   "display_name": "Python 3 (ipykernel)",
   "language": "python",
   "name": "python3"
  },
  "language_info": {
   "codemirror_mode": {
    "name": "ipython",
    "version": 3
   },
   "file_extension": ".py",
   "mimetype": "text/x-python",
   "name": "python",
   "nbconvert_exporter": "python",
   "pygments_lexer": "ipython3",
   "version": "3.11.4"
  }
 },
 "nbformat": 4,
 "nbformat_minor": 5
}
