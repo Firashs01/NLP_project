{
 "cells": [
  {
   "cell_type": "markdown",
   "id": "94a03071",
   "metadata": {},
   "source": [
    "# Reading Data"
   ]
  },
  {
   "cell_type": "code",
   "execution_count": 8,
   "id": "7a2b59b7",
   "metadata": {},
   "outputs": [
    {
     "data": {
      "text/html": [
       "<div>\n",
       "<style scoped>\n",
       "    .dataframe tbody tr th:only-of-type {\n",
       "        vertical-align: middle;\n",
       "    }\n",
       "\n",
       "    .dataframe tbody tr th {\n",
       "        vertical-align: top;\n",
       "    }\n",
       "\n",
       "    .dataframe thead th {\n",
       "        text-align: right;\n",
       "    }\n",
       "</style>\n",
       "<table border=\"1\" class=\"dataframe\">\n",
       "  <thead>\n",
       "    <tr style=\"text-align: right;\">\n",
       "      <th></th>\n",
       "      <th>aug_data</th>\n",
       "      <th>type</th>\n",
       "    </tr>\n",
       "  </thead>\n",
       "  <tbody>\n",
       "    <tr>\n",
       "      <th>0</th>\n",
       "      <td>صدىقتى امال اقرئى تعلىقى سمحتى صدقىنى صدقىنى ا...</td>\n",
       "      <td>normal</td>\n",
       "    </tr>\n",
       "    <tr>\n",
       "      <th>1</th>\n",
       "      <td>فاهمه ربى نظملهم حىاتهم وراهم الطرىق الصحىح وا...</td>\n",
       "      <td>normal</td>\n",
       "    </tr>\n",
       "    <tr>\n",
       "      <th>2</th>\n",
       "      <td>اعتقد صهىونى امرىكى جاسوس الغرب ىرىد التجنىس ب...</td>\n",
       "      <td>aggressive</td>\n",
       "    </tr>\n",
       "    <tr>\n",
       "      <th>3</th>\n",
       "      <td>اعتقد صهىونى امرىكى جاسوس الغرب التجنىس الشرق ...</td>\n",
       "      <td>aggressive</td>\n",
       "    </tr>\n",
       "    <tr>\n",
       "      <th>4</th>\n",
       "      <td>اشد اعداء الاسلام انزل محمد ىسمون بمفتىىن النا...</td>\n",
       "      <td>aggressive</td>\n",
       "    </tr>\n",
       "    <tr>\n",
       "      <th>...</th>\n",
       "      <td>...</td>\n",
       "      <td>...</td>\n",
       "    </tr>\n",
       "    <tr>\n",
       "      <th>4401</th>\n",
       "      <td>اوهدى</td>\n",
       "      <td>normal</td>\n",
       "    </tr>\n",
       "    <tr>\n",
       "      <th>4402</th>\n",
       "      <td>طز</td>\n",
       "      <td>aggressive</td>\n",
       "    </tr>\n",
       "    <tr>\n",
       "      <th>4403</th>\n",
       "      <td>ترهدىن</td>\n",
       "      <td>normal</td>\n",
       "    </tr>\n",
       "    <tr>\n",
       "      <th>4404</th>\n",
       "      <td>تقو</td>\n",
       "      <td>aggressive</td>\n",
       "    </tr>\n",
       "    <tr>\n",
       "      <th>4405</th>\n",
       "      <td>NaN</td>\n",
       "      <td>aggressive</td>\n",
       "    </tr>\n",
       "  </tbody>\n",
       "</table>\n",
       "<p>4406 rows × 2 columns</p>\n",
       "</div>"
      ],
      "text/plain": [
       "                                               aug_data        type\n",
       "0     صدىقتى امال اقرئى تعلىقى سمحتى صدقىنى صدقىنى ا...      normal\n",
       "1     فاهمه ربى نظملهم حىاتهم وراهم الطرىق الصحىح وا...      normal\n",
       "2     اعتقد صهىونى امرىكى جاسوس الغرب ىرىد التجنىس ب...  aggressive\n",
       "3     اعتقد صهىونى امرىكى جاسوس الغرب التجنىس الشرق ...  aggressive\n",
       "4     اشد اعداء الاسلام انزل محمد ىسمون بمفتىىن النا...  aggressive\n",
       "...                                                 ...         ...\n",
       "4401                                              اوهدى      normal\n",
       "4402                                                 طز  aggressive\n",
       "4403                                             ترهدىن      normal\n",
       "4404                                                تقو  aggressive\n",
       "4405                                                NaN  aggressive\n",
       "\n",
       "[4406 rows x 2 columns]"
      ]
     },
     "execution_count": 8,
     "metadata": {},
     "output_type": "execute_result"
    }
   ],
   "source": [
    "import pandas as pd\n",
    "\n",
    "#read the data \n",
    "dataset = pd.read_csv(\"aug_noise.csv\")\n",
    "\n",
    "#view data \n",
    "dataset"
   ]
  },
  {
   "cell_type": "code",
   "execution_count": 13,
   "id": "601b7f97",
   "metadata": {},
   "outputs": [
    {
     "name": "stderr",
     "output_type": "stream",
     "text": [
      "[nltk_data] Downloading package stopwords to\n",
      "[nltk_data]     C:\\Users\\asus\\AppData\\Roaming\\nltk_data...\n",
      "[nltk_data]   Package stopwords is already up-to-date!\n"
     ]
    }
   ],
   "source": [
    "import nltk\n",
    "nltk.download('stopwords')\n",
    "stop = set(nltk.corpus.stopwords.words(\"arabic\"))"
   ]
  },
  {
   "cell_type": "code",
   "execution_count": 9,
   "id": "35012ea5",
   "metadata": {},
   "outputs": [],
   "source": [
    "# Text length analysis \n",
    "def avg_word(sentence):\n",
    "    words = sentence.split()\n",
    "    if len(words) == 0:\n",
    "        return 0\n",
    "    return (sum(len(word) for word in words)/len(words))"
   ]
  },
  {
   "cell_type": "code",
   "execution_count": 15,
   "id": "3b9dc9fb",
   "metadata": {},
   "outputs": [
    {
     "data": {
      "text/html": [
       "<div>\n",
       "<style scoped>\n",
       "    .dataframe tbody tr th:only-of-type {\n",
       "        vertical-align: middle;\n",
       "    }\n",
       "\n",
       "    .dataframe tbody tr th {\n",
       "        vertical-align: top;\n",
       "    }\n",
       "\n",
       "    .dataframe thead th {\n",
       "        text-align: right;\n",
       "    }\n",
       "</style>\n",
       "<table border=\"1\" class=\"dataframe\">\n",
       "  <thead>\n",
       "    <tr style=\"text-align: right;\">\n",
       "      <th></th>\n",
       "      <th>aug_data</th>\n",
       "      <th>type</th>\n",
       "      <th>word_count</th>\n",
       "      <th>char_count</th>\n",
       "      <th>avg_char_per_word</th>\n",
       "      <th>stopwords</th>\n",
       "    </tr>\n",
       "  </thead>\n",
       "  <tbody>\n",
       "    <tr>\n",
       "      <th>0</th>\n",
       "      <td>صدىقتى امال اقرئى تعلىقى سمحتى صدقىنى صدقىنى ا...</td>\n",
       "      <td>normal</td>\n",
       "      <td>302</td>\n",
       "      <td>1950.0</td>\n",
       "      <td>5.460265</td>\n",
       "      <td>0</td>\n",
       "    </tr>\n",
       "    <tr>\n",
       "      <th>1</th>\n",
       "      <td>فاهمه ربى نظملهم حىاتهم وراهم الطرىق الصحىح وا...</td>\n",
       "      <td>normal</td>\n",
       "      <td>177</td>\n",
       "      <td>1102.0</td>\n",
       "      <td>5.231638</td>\n",
       "      <td>1</td>\n",
       "    </tr>\n",
       "    <tr>\n",
       "      <th>3</th>\n",
       "      <td>اعتقد صهىونى امرىكى جاسوس الغرب التجنىس الشرق ...</td>\n",
       "      <td>aggressive</td>\n",
       "      <td>168</td>\n",
       "      <td>1091.0</td>\n",
       "      <td>5.500000</td>\n",
       "      <td>0</td>\n",
       "    </tr>\n",
       "    <tr>\n",
       "      <th>2</th>\n",
       "      <td>اعتقد صهىونى امرىكى جاسوس الغرب ىرىد التجنىس ب...</td>\n",
       "      <td>aggressive</td>\n",
       "      <td>166</td>\n",
       "      <td>1073.0</td>\n",
       "      <td>5.469880</td>\n",
       "      <td>0</td>\n",
       "    </tr>\n",
       "    <tr>\n",
       "      <th>4</th>\n",
       "      <td>اشد اعداء الاسلام انزل محمد ىسمون بمفتىىن النا...</td>\n",
       "      <td>aggressive</td>\n",
       "      <td>138</td>\n",
       "      <td>838.0</td>\n",
       "      <td>5.079710</td>\n",
       "      <td>0</td>\n",
       "    </tr>\n",
       "  </tbody>\n",
       "</table>\n",
       "</div>"
      ],
      "text/plain": [
       "                                            aug_data        type  word_count  \\\n",
       "0  صدىقتى امال اقرئى تعلىقى سمحتى صدقىنى صدقىنى ا...      normal         302   \n",
       "1  فاهمه ربى نظملهم حىاتهم وراهم الطرىق الصحىح وا...      normal         177   \n",
       "3  اعتقد صهىونى امرىكى جاسوس الغرب التجنىس الشرق ...  aggressive         168   \n",
       "2  اعتقد صهىونى امرىكى جاسوس الغرب ىرىد التجنىس ب...  aggressive         166   \n",
       "4  اشد اعداء الاسلام انزل محمد ىسمون بمفتىىن النا...  aggressive         138   \n",
       "\n",
       "   char_count  avg_char_per_word  stopwords  \n",
       "0      1950.0           5.460265          0  \n",
       "1      1102.0           5.231638          1  \n",
       "3      1091.0           5.500000          0  \n",
       "2      1073.0           5.469880          0  \n",
       "4       838.0           5.079710          0  "
      ]
     },
     "execution_count": 15,
     "metadata": {},
     "output_type": "execute_result"
    }
   ],
   "source": [
    "dataset['word_count'] = dataset['aug_data'].apply(lambda x: len(str(x).split(\" \")))\n",
    "dataset['char_count'] = dataset['aug_data'].str.len() ## this also includes spaces\n",
    "dataset['avg_char_per_word'] = dataset['aug_data'].apply(lambda x: avg_word(str(x)))\n",
    "dataset['stopwords'] = dataset['aug_data'].apply(lambda x: len([x for x in str(x).split() if x in stop]))\n",
    "dataset = dataset.sort_values(by='word_count',ascending=[0])\n",
    "dataset.head()"
   ]
  },
  {
   "cell_type": "code",
   "execution_count": 16,
   "id": "0e705d38",
   "metadata": {},
   "outputs": [
    {
     "name": "stderr",
     "output_type": "stream",
     "text": [
      "C:\\Users\\asus\\AppData\\Local\\Temp\\ipykernel_15672\\124873177.py:2: FutureWarning: The default value of numeric_only in DataFrame.mean is deprecated. In a future version, it will default to False. In addition, specifying 'numeric_only=None' is deprecated. Select only valid columns or specify the value of numeric_only to silence this warning.\n",
      "  dataset_stat = dataset.mean(axis=0)\n"
     ]
    },
    {
     "data": {
      "text/plain": [
       "word_count            9.666137\n",
       "char_count           57.387030\n",
       "avg_char_per_word     4.838784\n",
       "stopwords             0.006809\n",
       "dtype: float64"
      ]
     },
     "execution_count": 16,
     "metadata": {},
     "output_type": "execute_result"
    }
   ],
   "source": [
    "# Overall averages of each numeric column \n",
    "dataset_stat = dataset.mean(axis=0)\n",
    "dataset_stat"
   ]
  },
  {
   "cell_type": "markdown",
   "id": "784a5ff4",
   "metadata": {},
   "source": [
    "#  Preparing dataset"
   ]
  },
  {
   "cell_type": "code",
   "execution_count": 19,
   "id": "aa2ba866",
   "metadata": {},
   "outputs": [],
   "source": [
    "import csv\n",
    "import numpy as np\n",
    "from sklearn.utils import shuffle\n",
    "from sklearn.model_selection import train_test_split"
   ]
  },
  {
   "cell_type": "code",
   "execution_count": 25,
   "id": "f93e2278",
   "metadata": {},
   "outputs": [],
   "source": [
    "data = pd.read_csv(\"aug_noise.csv\")"
   ]
  },
  {
   "cell_type": "code",
   "execution_count": 26,
   "id": "f03a13ac",
   "metadata": {},
   "outputs": [
    {
     "data": {
      "text/html": [
       "<div>\n",
       "<style scoped>\n",
       "    .dataframe tbody tr th:only-of-type {\n",
       "        vertical-align: middle;\n",
       "    }\n",
       "\n",
       "    .dataframe tbody tr th {\n",
       "        vertical-align: top;\n",
       "    }\n",
       "\n",
       "    .dataframe thead th {\n",
       "        text-align: right;\n",
       "    }\n",
       "</style>\n",
       "<table border=\"1\" class=\"dataframe\">\n",
       "  <thead>\n",
       "    <tr style=\"text-align: right;\">\n",
       "      <th></th>\n",
       "      <th>aug_data</th>\n",
       "      <th>type</th>\n",
       "    </tr>\n",
       "  </thead>\n",
       "  <tbody>\n",
       "    <tr>\n",
       "      <th>3497</th>\n",
       "      <td>تناكت دنىا خلاص</td>\n",
       "      <td>aggressive</td>\n",
       "    </tr>\n",
       "    <tr>\n",
       "      <th>1551</th>\n",
       "      <td>معجبىىك مى تحتى عىنى قناه ونطلبلك ربى</td>\n",
       "      <td>normal</td>\n",
       "    </tr>\n",
       "    <tr>\n",
       "      <th>3987</th>\n",
       "      <td>سوق النخاسه</td>\n",
       "      <td>normal</td>\n",
       "    </tr>\n",
       "    <tr>\n",
       "      <th>4081</th>\n",
       "      <td>نىكمك العبدلى</td>\n",
       "      <td>aggressive</td>\n",
       "    </tr>\n",
       "    <tr>\n",
       "      <th>908</th>\n",
       "      <td>ىستدعى لخدمه الجىش لانهم غدارىن امان اخبرنا ال...</td>\n",
       "      <td>aggressive</td>\n",
       "    </tr>\n",
       "    <tr>\n",
       "      <th>...</th>\n",
       "      <td>...</td>\n",
       "      <td>...</td>\n",
       "    </tr>\n",
       "    <tr>\n",
       "      <th>307</th>\n",
       "      <td>كافر بربكم الفاسق الفاجر امر بالفسق والهم النف...</td>\n",
       "      <td>aggressive</td>\n",
       "    </tr>\n",
       "    <tr>\n",
       "      <th>4288</th>\n",
       "      <td>NaN</td>\n",
       "      <td>aggressive</td>\n",
       "    </tr>\n",
       "    <tr>\n",
       "      <th>1903</th>\n",
       "      <td>قحاب عىناهم صحاح تره ماشىىن تنىكو تفوه وسختونا...</td>\n",
       "      <td>aggressive</td>\n",
       "    </tr>\n",
       "    <tr>\n",
       "      <th>3217</th>\n",
       "      <td>كفار حبو ىغىرو الدىن</td>\n",
       "      <td>aggressive</td>\n",
       "    </tr>\n",
       "    <tr>\n",
       "      <th>2116</th>\n",
       "      <td>اعلم كلامك صحىح الىهود المتعارف لدىنا اخبث البشر</td>\n",
       "      <td>aggressive</td>\n",
       "    </tr>\n",
       "  </tbody>\n",
       "</table>\n",
       "<p>3524 rows × 2 columns</p>\n",
       "</div>"
      ],
      "text/plain": [
       "                                               aug_data        type\n",
       "3497                                    تناكت دنىا خلاص  aggressive\n",
       "1551              معجبىىك مى تحتى عىنى قناه ونطلبلك ربى      normal\n",
       "3987                                        سوق النخاسه      normal\n",
       "4081                                      نىكمك العبدلى  aggressive\n",
       "908   ىستدعى لخدمه الجىش لانهم غدارىن امان اخبرنا ال...  aggressive\n",
       "...                                                 ...         ...\n",
       "307   كافر بربكم الفاسق الفاجر امر بالفسق والهم النف...  aggressive\n",
       "4288                                                NaN  aggressive\n",
       "1903  قحاب عىناهم صحاح تره ماشىىن تنىكو تفوه وسختونا...  aggressive\n",
       "3217                               كفار حبو ىغىرو الدىن  aggressive\n",
       "2116   اعلم كلامك صحىح الىهود المتعارف لدىنا اخبث البشر  aggressive\n",
       "\n",
       "[3524 rows x 2 columns]"
      ]
     },
     "execution_count": 26,
     "metadata": {},
     "output_type": "execute_result"
    }
   ],
   "source": [
    "# shuffle will help to reduce bias\n",
    "data = shuffle(data)\n",
    "\n",
    "# 20% test set and 80% train set\n",
    "train, test = train_test_split(data, test_size=0.2,random_state=42)\n",
    "train"
   ]
  },
  {
   "cell_type": "code",
   "execution_count": 27,
   "id": "32eb2149",
   "metadata": {},
   "outputs": [
    {
     "data": {
      "text/html": [
       "<div>\n",
       "<style scoped>\n",
       "    .dataframe tbody tr th:only-of-type {\n",
       "        vertical-align: middle;\n",
       "    }\n",
       "\n",
       "    .dataframe tbody tr th {\n",
       "        vertical-align: top;\n",
       "    }\n",
       "\n",
       "    .dataframe thead th {\n",
       "        text-align: right;\n",
       "    }\n",
       "</style>\n",
       "<table border=\"1\" class=\"dataframe\">\n",
       "  <thead>\n",
       "    <tr style=\"text-align: right;\">\n",
       "      <th></th>\n",
       "      <th>aug_data</th>\n",
       "      <th>type</th>\n",
       "    </tr>\n",
       "  </thead>\n",
       "  <tbody>\n",
       "    <tr>\n",
       "      <th>3307</th>\n",
       "      <td>الىهود تونس ىدخلون</td>\n",
       "      <td>aggressive</td>\n",
       "    </tr>\n",
       "    <tr>\n",
       "      <th>3420</th>\n",
       "      <td>حرفا القران كفر</td>\n",
       "      <td>aggressive</td>\n",
       "    </tr>\n",
       "    <tr>\n",
       "      <th>3268</th>\n",
       "      <td>لطفى وقح وقلىل ترباىه</td>\n",
       "      <td>aggressive</td>\n",
       "    </tr>\n",
       "    <tr>\n",
       "      <th>2524</th>\n",
       "      <td>تخطو سبحانك ربى</td>\n",
       "      <td>normal</td>\n",
       "    </tr>\n",
       "    <tr>\n",
       "      <th>1934</th>\n",
       "      <td>امىن ڤاره مستعد ىبىع ىعمل البووز وىمشى</td>\n",
       "      <td>normal</td>\n",
       "    </tr>\n",
       "    <tr>\n",
       "      <th>...</th>\n",
       "      <td>...</td>\n",
       "      <td>...</td>\n",
       "    </tr>\n",
       "    <tr>\n",
       "      <th>395</th>\n",
       "      <td>حدود الامر تتعداو حق عز ولله نخاف للظالم اخذه ...</td>\n",
       "      <td>aggressive</td>\n",
       "    </tr>\n",
       "    <tr>\n",
       "      <th>1698</th>\n",
       "      <td>جبتوه لطفى قعره ومنحبوش ومىعجبنىش وبرنامجو ماس...</td>\n",
       "      <td>aggressive</td>\n",
       "    </tr>\n",
       "    <tr>\n",
       "      <th>1149</th>\n",
       "      <td>فىبالك دزاىر هوما اصل توانسه قسمت فرنسا حدود خ...</td>\n",
       "      <td>normal</td>\n",
       "    </tr>\n",
       "    <tr>\n",
       "      <th>2569</th>\n",
       "      <td>لطفى نكرهك نكرهك ربى</td>\n",
       "      <td>normal</td>\n",
       "    </tr>\n",
       "    <tr>\n",
       "      <th>4063</th>\n",
       "      <td>تونس الكفار</td>\n",
       "      <td>aggressive</td>\n",
       "    </tr>\n",
       "  </tbody>\n",
       "</table>\n",
       "<p>882 rows × 2 columns</p>\n",
       "</div>"
      ],
      "text/plain": [
       "                                               aug_data        type\n",
       "3307                                 الىهود تونس ىدخلون  aggressive\n",
       "3420                                    حرفا القران كفر  aggressive\n",
       "3268                              لطفى وقح وقلىل ترباىه  aggressive\n",
       "2524                                    تخطو سبحانك ربى      normal\n",
       "1934             امىن ڤاره مستعد ىبىع ىعمل البووز وىمشى      normal\n",
       "...                                                 ...         ...\n",
       "395   حدود الامر تتعداو حق عز ولله نخاف للظالم اخذه ...  aggressive\n",
       "1698  جبتوه لطفى قعره ومنحبوش ومىعجبنىش وبرنامجو ماس...  aggressive\n",
       "1149  فىبالك دزاىر هوما اصل توانسه قسمت فرنسا حدود خ...      normal\n",
       "2569                               لطفى نكرهك نكرهك ربى      normal\n",
       "4063                                        تونس الكفار  aggressive\n",
       "\n",
       "[882 rows x 2 columns]"
      ]
     },
     "execution_count": 27,
     "metadata": {},
     "output_type": "execute_result"
    }
   ],
   "source": [
    "test"
   ]
  },
  {
   "cell_type": "code",
   "execution_count": 28,
   "id": "eb852703",
   "metadata": {},
   "outputs": [
    {
     "data": {
      "image/png": "[encoded data removed]",
      "text/plain": [
       "<Figure size 640x480 with 1 Axes>"
      ]
     },
     "metadata": {},
     "output_type": "display_data"
    }
   ],
   "source": [
    "import seaborn as sns\n",
    "import matplotlib.pyplot as plt\n",
    "\n",
    "sns.countplot(dataset, x='type')\n",
    "plt.xlabel('Classes')\n",
    "plt.ylabel('Number of occurrences')\n",
    "plt.show()"
   ]
  },
  {
   "cell_type": "code",
   "execution_count": 29,
   "id": "3d6d61f6",
   "metadata": {},
   "outputs": [
    {
     "data": {
      "image/png": "[encoded data removed]",
      "text/plain": [
       "<Figure size 640x480 with 1 Axes>"
      ]
     },
     "metadata": {},
     "output_type": "display_data"
    }
   ],
   "source": [
    "import seaborn as sns\n",
    "import matplotlib.pyplot as plt\n",
    "\n",
    "sns.countplot(train, x='type')\n",
    "plt.xlabel('Classes')\n",
    "plt.ylabel('Number of occurrences')\n",
    "plt.show()"
   ]
  },
  {
   "cell_type": "code",
   "execution_count": 30,
   "id": "0af4666d",
   "metadata": {},
   "outputs": [
    {
     "data": {
      "image/png": "[encoded data removed]",
      "text/plain": [
       "<Figure size 640x480 with 1 Axes>"
      ]
     },
     "metadata": {},
     "output_type": "display_data"
    }
   ],
   "source": [
    "import seaborn as sns\n",
    "import matplotlib.pyplot as plt\n",
    "\n",
    "sns.countplot(test, x='type')\n",
    "plt.xlabel('Classes')\n",
    "plt.ylabel('Number of occurrences')\n",
    "plt.show()"
   ]
  },
  {
   "cell_type": "code",
   "execution_count": 31,
   "id": "fcf1130f",
   "metadata": {},
   "outputs": [],
   "source": [
    "\n",
    "# convert labels from categorical to numeric\n",
    "label_map = {\n",
    "    'normal' : 0,\n",
    "    'aggressive': 1,\n",
    "}"
   ]
  },
  {
   "cell_type": "code",
   "execution_count": 32,
   "id": "a76ae17e",
   "metadata": {},
   "outputs": [],
   "source": [
    "train['Offensive'] = train['type'].apply(lambda x: label_map[x])\n",
    "test['Offensive'] = test['type'].apply(lambda x: label_map[x])"
   ]
  },
  {
   "cell_type": "code",
   "execution_count": 33,
   "id": "947ea4f8",
   "metadata": {},
   "outputs": [
    {
     "data": {
      "text/html": [
       "<div>\n",
       "<style scoped>\n",
       "    .dataframe tbody tr th:only-of-type {\n",
       "        vertical-align: middle;\n",
       "    }\n",
       "\n",
       "    .dataframe tbody tr th {\n",
       "        vertical-align: top;\n",
       "    }\n",
       "\n",
       "    .dataframe thead th {\n",
       "        text-align: right;\n",
       "    }\n",
       "</style>\n",
       "<table border=\"1\" class=\"dataframe\">\n",
       "  <thead>\n",
       "    <tr style=\"text-align: right;\">\n",
       "      <th></th>\n",
       "      <th>aug_data</th>\n",
       "      <th>type</th>\n",
       "      <th>Offensive</th>\n",
       "    </tr>\n",
       "  </thead>\n",
       "  <tbody>\n",
       "    <tr>\n",
       "      <th>3497</th>\n",
       "      <td>تناكت دنىا خلاص</td>\n",
       "      <td>aggressive</td>\n",
       "      <td>1</td>\n",
       "    </tr>\n",
       "    <tr>\n",
       "      <th>1551</th>\n",
       "      <td>معجبىىك مى تحتى عىنى قناه ونطلبلك ربى</td>\n",
       "      <td>normal</td>\n",
       "      <td>0</td>\n",
       "    </tr>\n",
       "    <tr>\n",
       "      <th>3987</th>\n",
       "      <td>سوق النخاسه</td>\n",
       "      <td>normal</td>\n",
       "      <td>0</td>\n",
       "    </tr>\n",
       "    <tr>\n",
       "      <th>4081</th>\n",
       "      <td>نىكمك العبدلى</td>\n",
       "      <td>aggressive</td>\n",
       "      <td>1</td>\n",
       "    </tr>\n",
       "    <tr>\n",
       "      <th>908</th>\n",
       "      <td>ىستدعى لخدمه الجىش لانهم غدارىن امان اخبرنا ال...</td>\n",
       "      <td>aggressive</td>\n",
       "      <td>1</td>\n",
       "    </tr>\n",
       "    <tr>\n",
       "      <th>...</th>\n",
       "      <td>...</td>\n",
       "      <td>...</td>\n",
       "      <td>...</td>\n",
       "    </tr>\n",
       "    <tr>\n",
       "      <th>307</th>\n",
       "      <td>كافر بربكم الفاسق الفاجر امر بالفسق والهم النف...</td>\n",
       "      <td>aggressive</td>\n",
       "      <td>1</td>\n",
       "    </tr>\n",
       "    <tr>\n",
       "      <th>4288</th>\n",
       "      <td>NaN</td>\n",
       "      <td>aggressive</td>\n",
       "      <td>1</td>\n",
       "    </tr>\n",
       "    <tr>\n",
       "      <th>1903</th>\n",
       "      <td>قحاب عىناهم صحاح تره ماشىىن تنىكو تفوه وسختونا...</td>\n",
       "      <td>aggressive</td>\n",
       "      <td>1</td>\n",
       "    </tr>\n",
       "    <tr>\n",
       "      <th>3217</th>\n",
       "      <td>كفار حبو ىغىرو الدىن</td>\n",
       "      <td>aggressive</td>\n",
       "      <td>1</td>\n",
       "    </tr>\n",
       "    <tr>\n",
       "      <th>2116</th>\n",
       "      <td>اعلم كلامك صحىح الىهود المتعارف لدىنا اخبث البشر</td>\n",
       "      <td>aggressive</td>\n",
       "      <td>1</td>\n",
       "    </tr>\n",
       "  </tbody>\n",
       "</table>\n",
       "<p>3524 rows × 3 columns</p>\n",
       "</div>"
      ],
      "text/plain": [
       "                                               aug_data        type  Offensive\n",
       "3497                                    تناكت دنىا خلاص  aggressive          1\n",
       "1551              معجبىىك مى تحتى عىنى قناه ونطلبلك ربى      normal          0\n",
       "3987                                        سوق النخاسه      normal          0\n",
       "4081                                      نىكمك العبدلى  aggressive          1\n",
       "908   ىستدعى لخدمه الجىش لانهم غدارىن امان اخبرنا ال...  aggressive          1\n",
       "...                                                 ...         ...        ...\n",
       "307   كافر بربكم الفاسق الفاجر امر بالفسق والهم النف...  aggressive          1\n",
       "4288                                                NaN  aggressive          1\n",
       "1903  قحاب عىناهم صحاح تره ماشىىن تنىكو تفوه وسختونا...  aggressive          1\n",
       "3217                               كفار حبو ىغىرو الدىن  aggressive          1\n",
       "2116   اعلم كلامك صحىح الىهود المتعارف لدىنا اخبث البشر  aggressive          1\n",
       "\n",
       "[3524 rows x 3 columns]"
      ]
     },
     "execution_count": 33,
     "metadata": {},
     "output_type": "execute_result"
    }
   ],
   "source": [
    "train"
   ]
  },
  {
   "cell_type": "markdown",
   "id": "f16e1c6c",
   "metadata": {},
   "source": [
    "# Classification Model Development"
   ]
  },
  {
   "cell_type": "code",
   "execution_count": 34,
   "id": "d05369f0",
   "metadata": {},
   "outputs": [],
   "source": [
    "# required libraries\n",
    "from sklearn.model_selection import GridSearchCV\n",
    "from sklearn.feature_extraction.text import TfidfVectorizer\n",
    "from sklearn.pipeline import make_pipeline\n",
    "from sklearn.linear_model import LogisticRegression\n",
    "from sklearn.metrics import confusion_matrix,accuracy_score, classification_report\n"
   ]
  },
  {
   "cell_type": "code",
   "execution_count": 40,
   "id": "e52ba87a",
   "metadata": {},
   "outputs": [],
   "source": [
    "# Feature extraction\n",
    "train_feature = train.aug_data.values.astype('U')\n",
    "train_target = train.Offensive\n",
    "\n",
    "test_feature = test.aug_data.values.astype('U')\n",
    "test_target = test.Offensive"
   ]
  },
  {
   "cell_type": "markdown",
   "id": "5accfaf9",
   "metadata": {},
   "source": [
    "## tfidf"
   ]
  },
  {
   "cell_type": "code",
   "execution_count": 41,
   "id": "6c331bae",
   "metadata": {},
   "outputs": [
    {
     "name": "stderr",
     "output_type": "stream",
     "text": [
      "C:\\Users\\asus\\anaconda3\\Lib\\site-packages\\sklearn\\linear_model\\_logistic.py:460: ConvergenceWarning: lbfgs failed to converge (status=1):\n",
      "STOP: TOTAL NO. of ITERATIONS REACHED LIMIT.\n",
      "\n",
      "Increase the number of iterations (max_iter) or scale the data as shown in:\n",
      "    https://scikit-learn.org/stable/modules/preprocessing.html\n",
      "Please also refer to the documentation for alternative solver options:\n",
      "    https://scikit-learn.org/stable/modules/linear_model.html#logistic-regression\n",
      "  n_iter_i = _check_optimize_result(\n",
      "C:\\Users\\asus\\anaconda3\\Lib\\site-packages\\sklearn\\linear_model\\_logistic.py:460: ConvergenceWarning: lbfgs failed to converge (status=1):\n",
      "STOP: TOTAL NO. of ITERATIONS REACHED LIMIT.\n",
      "\n",
      "Increase the number of iterations (max_iter) or scale the data as shown in:\n",
      "    https://scikit-learn.org/stable/modules/preprocessing.html\n",
      "Please also refer to the documentation for alternative solver options:\n",
      "    https://scikit-learn.org/stable/modules/linear_model.html#logistic-regression\n",
      "  n_iter_i = _check_optimize_result(\n",
      "C:\\Users\\asus\\anaconda3\\Lib\\site-packages\\sklearn\\linear_model\\_logistic.py:460: ConvergenceWarning: lbfgs failed to converge (status=1):\n",
      "STOP: TOTAL NO. of ITERATIONS REACHED LIMIT.\n",
      "\n",
      "Increase the number of iterations (max_iter) or scale the data as shown in:\n",
      "    https://scikit-learn.org/stable/modules/preprocessing.html\n",
      "Please also refer to the documentation for alternative solver options:\n",
      "    https://scikit-learn.org/stable/modules/linear_model.html#logistic-regression\n",
      "  n_iter_i = _check_optimize_result(\n",
      "C:\\Users\\asus\\anaconda3\\Lib\\site-packages\\sklearn\\linear_model\\_logistic.py:460: ConvergenceWarning: lbfgs failed to converge (status=1):\n",
      "STOP: TOTAL NO. of ITERATIONS REACHED LIMIT.\n",
      "\n",
      "Increase the number of iterations (max_iter) or scale the data as shown in:\n",
      "    https://scikit-learn.org/stable/modules/preprocessing.html\n",
      "Please also refer to the documentation for alternative solver options:\n",
      "    https://scikit-learn.org/stable/modules/linear_model.html#logistic-regression\n",
      "  n_iter_i = _check_optimize_result(\n",
      "C:\\Users\\asus\\anaconda3\\Lib\\site-packages\\sklearn\\linear_model\\_logistic.py:460: ConvergenceWarning: lbfgs failed to converge (status=1):\n",
      "STOP: TOTAL NO. of ITERATIONS REACHED LIMIT.\n",
      "\n",
      "Increase the number of iterations (max_iter) or scale the data as shown in:\n",
      "    https://scikit-learn.org/stable/modules/preprocessing.html\n",
      "Please also refer to the documentation for alternative solver options:\n",
      "    https://scikit-learn.org/stable/modules/linear_model.html#logistic-regression\n",
      "  n_iter_i = _check_optimize_result(\n"
     ]
    },
    {
     "name": "stdout",
     "output_type": "stream",
     "text": [
      "Accuracy score is 0.84\n",
      "              precision    recall  f1-score   support\n",
      "\n",
      "           0       0.83      0.86      0.84       435\n",
      "           1       0.86      0.83      0.84       447\n",
      "\n",
      "    accuracy                           0.84       882\n",
      "   macro avg       0.84      0.84      0.84       882\n",
      "weighted avg       0.84      0.84      0.84       882\n",
      "\n"
     ]
    }
   ],
   "source": [
    "# make pipeline (tdidf+logistic regression)\n",
    "pipe = make_pipeline(TfidfVectorizer(),\n",
    "                    LogisticRegression())\n",
    "\n",
    "# make param grid\n",
    "param_grid = {'logisticregression__C': [0.01, 0.1, 1, 10, 100]}\n",
    "\n",
    "# create and fit the model\n",
    "model = GridSearchCV(pipe, param_grid, cv=5)\n",
    "model.fit(train_feature,train_target)\n",
    "\n",
    "# make prediction and print accuracy\n",
    "prediction = model.predict(test_feature)\n",
    "print(f\"Accuracy score is {accuracy_score(test_target, prediction):.2f}\")\n",
    "print(classification_report(test_target, prediction))"
   ]
  },
  {
   "cell_type": "code",
   "execution_count": null,
   "id": "067f3bfb",
   "metadata": {},
   "outputs": [],
   "source": [
    "# make prediction and print accuracy\n",
    "prediction = model.predict(test_feature)\n",
    "print(f\"Accuracy score is {accuracy_score(test_target, prediction):.2f}\")\n",
    "print(classification_report(test_target, prediction))"
   ]
  },
  {
   "cell_type": "code",
   "execution_count": 42,
   "id": "3b393846",
   "metadata": {},
   "outputs": [
    {
     "name": "stdout",
     "output_type": "stream",
     "text": [
      "Accuracy score is 0.82\n",
      "              precision    recall  f1-score   support\n",
      "\n",
      "           0       0.83      0.80      0.81       435\n",
      "           1       0.81      0.84      0.82       447\n",
      "\n",
      "    accuracy                           0.82       882\n",
      "   macro avg       0.82      0.82      0.82       882\n",
      "weighted avg       0.82      0.82      0.82       882\n",
      "\n"
     ]
    }
   ],
   "source": [
    "## make pipeline (tdidf+NB)\n",
    "\n",
    "from sklearn.naive_bayes import MultinomialNB\n",
    "\n",
    "# Create a pipeline\n",
    "pipe1 = make_pipeline(TfidfVectorizer(), MultinomialNB())\n",
    "\n",
    "# Define the parameter grid\n",
    "param_grid1 = {'multinomialnb__alpha': [0.01, 0.1, 1, 10, 100]}\n",
    "\n",
    "# Create and fit the model using grid search\n",
    "model1 = GridSearchCV(pipe1, param_grid1, cv=5)\n",
    "model1.fit(train_feature, train_target)\n",
    "\n",
    "# make prediction and print accuracy\n",
    "prediction = model1.predict(test_feature)\n",
    "print(f\"Accuracy score is {accuracy_score(test_target, prediction):.2f}\")\n",
    "print(classification_report(test_target, prediction))"
   ]
  },
  {
   "cell_type": "code",
   "execution_count": 43,
   "id": "64b3795b",
   "metadata": {},
   "outputs": [],
   "source": [
    "#Error Analysis\n",
    "\n",
    "# printing misclassified normal samples\n",
    "test['Prediction'] = prediction\n",
    "normal_error = test[(test['Prediction'] != test['Offensive']) & (test['Offensive'] == 0)]\n",
    "\n",
    "# printing misclassified abusive samples\n",
    "test['Prediction'] = prediction\n",
    "aggressive_error = test[(test['Prediction'] != test['Offensive']) & (test['Offensive'] == 1)]"
   ]
  },
  {
   "cell_type": "code",
   "execution_count": 44,
   "id": "5efd68c9",
   "metadata": {},
   "outputs": [
    {
     "data": {
      "text/plain": [
       "89"
      ]
     },
     "execution_count": 44,
     "metadata": {},
     "output_type": "execute_result"
    }
   ],
   "source": [
    "len(normal_error)"
   ]
  },
  {
   "cell_type": "code",
   "execution_count": 45,
   "id": "a1eaa027",
   "metadata": {},
   "outputs": [
    {
     "data": {
      "text/plain": [
       "73"
      ]
     },
     "execution_count": 45,
     "metadata": {},
     "output_type": "execute_result"
    }
   ],
   "source": [
    "len(aggressive_error)"
   ]
  },
  {
   "cell_type": "code",
   "execution_count": 46,
   "id": "aa6cf137",
   "metadata": {},
   "outputs": [
    {
     "name": "stdout",
     "output_type": "stream",
     "text": [
      "Accuracy score is 0.81\n",
      "              precision    recall  f1-score   support\n",
      "\n",
      "           0       0.75      0.93      0.83       435\n",
      "           1       0.91      0.70      0.79       447\n",
      "\n",
      "    accuracy                           0.81       882\n",
      "   macro avg       0.83      0.81      0.81       882\n",
      "weighted avg       0.83      0.81      0.81       882\n",
      "\n"
     ]
    }
   ],
   "source": [
    "## make pipeline (tdidf+RandomForest)\n",
    "from sklearn.ensemble import RandomForestClassifier\n",
    "\n",
    "# Create the pipeline\n",
    "pipe2 = make_pipeline(TfidfVectorizer(), RandomForestClassifier())\n",
    "\n",
    "param_grid2 = {\n",
    "    'randomforestclassifier__n_estimators': [100, 200, 300],\n",
    "    'randomforestclassifier__max_depth': [None, 10, 20, 30]\n",
    "}\n",
    "\n",
    "\n",
    "# Create and fit the model using grid search\n",
    "model2 = GridSearchCV(pipe2, param_grid2, cv=5)\n",
    "model2.fit(train_feature, train_target)\n",
    "\n",
    "# make prediction and print accuracy\n",
    "prediction = model2.predict(test_feature)\n",
    "print(f\"Accuracy score is {accuracy_score(test_target, prediction):.2f}\")\n",
    "print(classification_report(test_target, prediction))"
   ]
  },
  {
   "cell_type": "code",
   "execution_count": null,
   "id": "bd04a54e",
   "metadata": {},
   "outputs": [],
   "source": []
  }
 ],
 "metadata": {
  "kernelspec": {
   "display_name": "Python 3 (ipykernel)",
   "language": "python",
   "name": "python3"
  },
  "language_info": {
   "codemirror_mode": {
    "name": "ipython",
    "version": 3
   },
   "file_extension": ".py",
   "mimetype": "text/x-python",
   "name": "python",
   "nbconvert_exporter": "python",
   "pygments_lexer": "ipython3",
   "version": "3.11.4"
  }
 },
 "nbformat": 4,
 "nbformat_minor": 5
}
